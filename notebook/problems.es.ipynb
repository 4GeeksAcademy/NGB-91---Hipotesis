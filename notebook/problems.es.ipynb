{
 "cells": [
  {
   "cell_type": "markdown",
   "id": "d9d036c6",
   "metadata": {},
   "source": [
    "# Problemas de prueba de hipótesis"
   ]
  },
  {
   "cell_type": "code",
   "execution_count": 2,
   "id": "6bcb38bd",
   "metadata": {},
   "outputs": [],
   "source": [
    "import numpy as np\n",
    "import pandas as pd\n",
    "import scipy.stats as stats\n",
    "from statsmodels.stats.multicomp import pairwise_tukeyhsd"
   ]
  },
  {
   "cell_type": "markdown",
   "id": "d157c4db",
   "metadata": {},
   "source": [
    "## Ejercicio 1\n",
    "\n",
    "Usted es un nutricionista que investiga dos tipos diferentes de dietas para ver si existe una diferencia significativa en la pérdida de peso después de un mes. Eliges dos grupos aleatorios de personas; un grupo sigue la primera dieta y el otro sigue la segunda. Al final del mes, se registra la pérdida de peso (en kg) de cada persona:\n",
    "\n",
    "| Diet 1 | Diet 2 |\n",
    "|:-------|:-------|\n",
    "| 2.0 | 3.0 |\n",
    "| 2.5 | 3.2 |\n",
    "| 3.0 | 3.1 |\n",
    "| 2.8 | 2.9 |\n",
    "| 2.3 | 2.8 |\n",
    "| 2.7 | 3.0 |\n",
    "| 2.5 | 3.2 |\n",
    "\n",
    "Con estos datos se busca responder a la siguiente pregunta: ¿Existe una diferencia significativa en la pérdida de peso promedio entre las personas que siguieron la primera dieta y las que siguieron la segunda dieta?\n",
    "\n",
    "Para sacar conclusiones, siga los siguientes puntos:\n",
    "\n",
    "-Enunciar la hipótesis: hipótesis nula y alternativa.\n",
    "-Realizar la prueba para comprobar la hipótesis. Puede utilizar la prueba t de Student.\n",
    "-Analizar las conclusiones."
   ]
  },
  {
   "cell_type": "code",
   "execution_count": 7,
   "id": "8e0f3cf0",
   "metadata": {},
   "outputs": [
    {
     "name": "stdout",
     "output_type": "stream",
     "text": [
      "0.9635409177367069\n",
      "0.5905246580529597\n"
     ]
    }
   ],
   "source": [
    "# DEFINICIÓN DATOS:\n",
    "\n",
    "dieta1 = np.array([2.0, 2.5, 3.0, 2.8, 2.3, 2.7, 2.5])\n",
    "dieta2 = np.array([3.0, 3.2, 3.1, 2.9, 2.8, 3.0, 3.2])\n",
    "\n",
    "print(stats.shapiro(dieta1)[1])\n",
    "print(stats.shapiro(dieta2)[1])"
   ]
  },
  {
   "cell_type": "code",
   "execution_count": 6,
   "id": "65de9eae",
   "metadata": {},
   "outputs": [
    {
     "name": "stdout",
     "output_type": "stream",
     "text": [
      "Estadistica T: -3.5383407969933938\n",
      "Valor P: 0.004083270191713912\n"
     ]
    }
   ],
   "source": [
    "# DEFINIR ALPHA:\n",
    "\n",
    "nivel_alpha = 0.05\n",
    "\n",
    "# PRUEBA T-STUDENT:\n",
    "\n",
    "t_stat, p_valor = stats.ttest_ind(dieta1, dieta2)\n",
    "\n",
    "# MOSTRAR RESULTADOS:\n",
    "\n",
    "print(f\"Estadistica T: {t_stat}\")\n",
    "print(f\"Valor P: {p_valor}\")"
   ]
  },
  {
   "cell_type": "code",
   "execution_count": 4,
   "id": "971b3006",
   "metadata": {},
   "outputs": [
    {
     "name": "stdout",
     "output_type": "stream",
     "text": [
      "Rechazamos la hipótesis nula.\n",
      "Hay evidencia estadística significativa de que existe una diferencia en las pérdidas de peso entre los grupos.\n"
     ]
    }
   ],
   "source": [
    "# PRUEBA DE LA HIPOTESIS:\n",
    "\n",
    "if p_valor < nivel_alpha:\n",
    "    print(\"Rechazamos la hipótesis nula.\")\n",
    "    print(\"Hay evidencia estadística significativa de que existe una diferencia en las pérdidas de peso entre los grupos.\")\n",
    "else:\n",
    "    print(\"No podemos rechazar la hipótesis nula.\")\n",
    "    print(\"No hay evidencia estadística suficiente para afirmar que exista una diferencia en las pérdidas de peso entre los grupos.\")"
   ]
  },
  {
   "cell_type": "markdown",
   "id": "497aa3a8",
   "metadata": {},
   "source": [
    "El Valor P, está por debajo del 0.05, por lo que podemos rechazar la hipótesis nula. Por otro lado, la Estadística T es negativa por lo que indica que la Dieta 1 hizo perder menor peso a los que siguieron esta dieta. \n",
    "En resumen hay una diferencia significativa entre ambas dietas; la Dieta 2 parece tener mayor impacto en la pérdida de peso"
   ]
  },
  {
   "cell_type": "markdown",
   "id": "f432e18e",
   "metadata": {},
   "source": [
    "## ANOVA\n",
    "\n",
    "**ANOVA** (*Analysis of Variance - Análisis de variación*) Es una técnica estadística utilizada para comparar las medidas de dos o más grupos. La idea detrás de ANOVA es descomponer la variabilidad total de los datos en dos componentes: variabilidad entre grupos y variabilidad dentro de los grupos:\n",
    "\n",
    "- **Variabilidad entre grupos**: Esta variabilidad se refiere a las diferencias entre las medias del grupo. Si esta variabilidad es considerablemente mayor que la variabilidad dentro del grupo, podría ser una indicación de que al menos una de las medias del grupo es diferente.\n",
    "- **Variabilidad dentro del grupo**: Esta variabilidad se refiere a la dispersión de los datos dentro de cada grupo. Si todos los grupos tienen una variabilidad similar, entonces cualquier diferencia notable en las medias de los grupos podría considerarse significativa.\n",
    "\n",
    "Las hipótesis en ANOVA suelen incluir:\n",
    "\n",
    "- **Hipótesis nula** ($H₀$): Las medias de todos los grupos son iguales.\n",
    "- **Hipótesis alternativa** ($H₁$): Al menos una de las medias del grupo es diferente.\n",
    "\n",
    "Si el resultado de la prueba ANOVA es significativo (por ejemplo, un valor p inferior a un umbral como 0,05), esto sugiere que al menos la media de un grupo es diferente."
   ]
  },
  {
   "cell_type": "markdown",
   "id": "fc5f3721",
   "metadata": {},
   "source": [
    "## Ejercicio 2\n",
    "\n",
    "Un agricultor decide probar tres tipos diferentes de fertilizantes para determinar si alguno es superior en términos de producción de maíz. El agricultor planta maíz en 15 parcelas idénticas y utiliza los tres fertilizantes (5 parcelas para cada tipo). Al final de la temporada mide el rendimiento de maíz (en kg) de cada parcela, con el siguiente resultado:\n",
    "\n",
    "| Fertilizante 1 | Fertilizante 2 | Fertilizante 3 |\n",
    "|:-------------|:-------------|:-------------|\n",
    "| 20 | 22 | 24 |\n",
    "| 21 | 21 | 23 |\n",
    "| 20 | 23 | 22 |\n",
    "| 19 | 22 | 23 |\n",
    "| 20 | 21 | 24 |\n",
    "\n",
    "Con estos datos busca responder la siguiente pregunta: ¿Existe una diferencia significativa en el rendimiento promedio del maíz entre los tres tipos de fertilizantes?\n",
    "\n",
    "Para ayudarte, sigue los siguientes puntos:\n",
    "\n",
    "-Enunciar la hipótesis: hipótesis nula y alternativa.\n",
    "-Realizar la prueba ANOVA.\n",
    "-Analizar las conclusiones.\n",
    "-Si un fertilizante es mejor que otro, ¿cómo podemos saberlo?"
   ]
  },
  {
   "cell_type": "code",
   "execution_count": 10,
   "id": "eecad0ca",
   "metadata": {},
   "outputs": [
    {
     "name": "stdout",
     "output_type": "stream",
     "text": [
      "0.32542950716414576\n",
      "0.3140395561440371\n",
      "0.3140395561440371\n"
     ]
    }
   ],
   "source": [
    "# DEFINICIÓN DE DATOS:\n",
    "\n",
    "fertilizante1 = np.array([20, 21, 20, 19, 20])\n",
    "fertilizante2 = np.array([22, 21, 23, 22, 21])\n",
    "fertilizante3 = np.array([24, 23, 22, 23, 24])\n",
    "\n",
    "print(stats.shapiro(fertilizante1)[1])\n",
    "print(stats.shapiro(fertilizante2)[1])\n",
    "print(stats.shapiro(fertilizante3)[1])"
   ]
  },
  {
   "cell_type": "code",
   "execution_count": 12,
   "id": "7aef84b3",
   "metadata": {},
   "outputs": [
    {
     "name": "stdout",
     "output_type": "stream",
     "text": [
      "Estadistica F: 20.3158\n",
      "Valor P: 0.0001\n"
     ]
    }
   ],
   "source": [
    "# DEFINIR ALPHA:\n",
    "\n",
    "nivel_alpha = 0.05\n",
    "\n",
    "# PRUEBA ANOVA:\n",
    "\n",
    "f_stats, p_valores = stats.f_oneway(fertilizante1, fertilizante2, fertilizante3)\n",
    "\n",
    "# MOSTRAR RESULTADOS:\n",
    "\n",
    "print(f\"Estadistica F: {f_stats:.4f}\")\n",
    "print(f\"Valor P: {p_valores:.4f}\")"
   ]
  },
  {
   "cell_type": "code",
   "execution_count": 6,
   "id": "b8e48ac2",
   "metadata": {},
   "outputs": [
    {
     "name": "stdout",
     "output_type": "stream",
     "text": [
      "Rechazamos la hipótesis nula.\n",
      "Hay evidencia estadística significativa de que existe una diferencia en el rendimiento de los fertilizantes.\n"
     ]
    }
   ],
   "source": [
    "# PRUEBA DE LA HIPÓTESIS:\n",
    "\n",
    "if p_valor < nivel_alpha:\n",
    "    print(\"Rechazamos la hipótesis nula.\")\n",
    "    print(\"Hay evidencia estadística significativa de que existe una diferencia en el rendimiento de los fertilizantes.\")\n",
    "else:\n",
    "    print(\"No podemos rechazar la hipótesis nula.\")\n",
    "    print(\"No hay evidencia estadística suficiente para afirmar que exista una diferencia en el rendimiento de los fertilizantes.\")"
   ]
  },
  {
   "cell_type": "markdown",
   "id": "202d5b62",
   "metadata": {},
   "source": [
    "BÚSQUEDA DEL MEJOR FERTILIZANTE:"
   ]
  },
  {
   "cell_type": "code",
   "execution_count": 30,
   "id": "cf9e0fe2",
   "metadata": {},
   "outputs": [
    {
     "name": "stdout",
     "output_type": "stream",
     "text": [
      "Estadistica F: 20.3158\n",
      "Valor P: 0.0001\n"
     ]
    }
   ],
   "source": [
    "# DEFINICIÓN DE DATOS:\n",
    "\n",
    "fertilizante1 = np.array([20, 21, 20, 19, 20])\n",
    "fertilizante2 = np.array([22, 21, 23, 22, 21])\n",
    "fertilizante3 = np.array([24, 23, 22, 23,24])\n",
    "\n",
    "rendimiento = np.concatenate([fertilizante1, fertilizante2, fertilizante3])\n",
    "\n",
    "grupos = np.array([\"F1\"] * 5 + [\"F2\"] * 5 + [\"F3\"] * 5)\n",
    "\n",
    "# PRUEBA ANOVA:\n",
    "\n",
    "f_stat, p_valor = stats.f_oneway(fertilizante1, fertilizante2, fertilizante3)\n",
    "\n",
    "# MOSTRAR RESULTADOS:\n",
    "\n",
    "print(f\"Estadistica F: {f_stat:.4f}\")\n",
    "print(f\"Valor P: {p_valor:.4f}\")"
   ]
  },
  {
   "cell_type": "code",
   "execution_count": 31,
   "id": "b8c28c40",
   "metadata": {},
   "outputs": [
    {
     "name": "stdout",
     "output_type": "stream",
     "text": [
      "Multiple Comparison of Means - Tukey HSD, FWER=0.05\n",
      "==================================================\n",
      "group1 group2 meandiff p-adj  lower  upper  reject\n",
      "--------------------------------------------------\n",
      "    F1     F2      1.8 0.0099 0.4572 3.1428   True\n",
      "    F1     F3      3.2 0.0001 1.8572 4.5428   True\n",
      "    F2     F3      1.4 0.0409 0.0572 2.7428   True\n",
      "--------------------------------------------------\n"
     ]
    }
   ],
   "source": [
    "# PRUEBA DE LA HIPÓTESIS:\n",
    "\n",
    "if p_valor < 0.05:\n",
    "    tukey_results = pairwise_tukeyhsd(endog=rendimiento, groups=grupos, alpha=0.05)\n",
    "    print(tukey_results)\n",
    "else:\n",
    "    print(\"No se puede rechazar la hipótesis nula; no hay evidencia suficiente para afirmar que hay diferencias notables en los diferentes fertilizantes\")"
   ]
  },
  {
   "cell_type": "markdown",
   "id": "ef786f42",
   "metadata": {},
   "source": [
    "GRÁFICOS"
   ]
  },
  {
   "cell_type": "code",
   "execution_count": 17,
   "id": "4aa4673d",
   "metadata": {},
   "outputs": [],
   "source": [
    "import matplotlib.pyplot as plt\n",
    "import seaborn as sns"
   ]
  },
  {
   "cell_type": "code",
   "execution_count": 32,
   "id": "7db35ac0",
   "metadata": {},
   "outputs": [
    {
     "data": {
      "image/png": "[encoded data removed]",
      "text/plain": [
       "<Figure size 800x600 with 1 Axes>"
      ]
     },
     "metadata": {},
     "output_type": "display_data"
    }
   ],
   "source": [
    "# BOXPLOT:\n",
    "\n",
    "fertilizante1 = np.array([20, 21, 20, 19, 20])\n",
    "fertilizante2 = np.array([22, 21, 23, 22, 21])\n",
    "fertilizante3 = np.array([24, 23, 22, 23,24])\n",
    "\n",
    "rendimiento = np.concatenate([fertilizante1, fertilizante2, fertilizante3])\n",
    "\n",
    "grupos = np.array([\"F1\"] * 5 + [\"F2\"] * 5 + [\"F3\"] * 5)\n",
    "\n",
    "df = pd.DataFrame({\"Rendimiento\": rendimiento, \"Fertilizantes\": grupos})\n",
    "\n",
    "plt.figure(figsize=(8 ,6))\n",
    "sns.boxplot(x=\"Fertilizantes\", y=\"Rendimiento\", data=df)\n",
    "plt.title(\"Rendimiento por fertilizante\")\n",
    "plt.xlabel(\"Rendimiento\")\n",
    "plt.ylabel(\"Grupos\")\n",
    "plt.show()"
   ]
  },
  {
   "cell_type": "code",
   "execution_count": 49,
   "id": "72d8f233",
   "metadata": {},
   "outputs": [
    {
     "data": {
      "image/png": "[encoded data removed]",
      "text/plain": [
       "<Figure size 800x600 with 1 Axes>"
      ]
     },
     "metadata": {},
     "output_type": "display_data"
    }
   ],
   "source": [
    "# HISTORIOGRAMA:\n",
    "\n",
    "rendimiento = np.concatenate([fertilizante1, fertilizante2, fertilizante3])\n",
    "\n",
    "plt.figure(figsize= (8, 6))\n",
    "plt.hist(rendimiento, bins=5, color='#483D8B', edgecolor='black', alpha=0.7)\n",
    "plt.title(\"Rendimiento de los fertlizantes\")\n",
    "plt.xlabel(\"Rendimiento\")\n",
    "plt.ylabel(\"Frecuencia\")\n",
    "plt.show()"
   ]
  },
  {
   "cell_type": "markdown",
   "id": "10474407",
   "metadata": {},
   "source": [
    "Se puede observar que el Rendimiento de los Fertilizantes varian en un rango de 19 a 24kg; con una mayor concentración de los valores superiores. De acuerdo a las comparativas entre los fertilizantes, el Fertilizante 3 es el que mejor rendimiento tiene sobre los otros dos; seguido, con bastante diferencia con el Fertilizante 2 y el Fertilizante 1 es el que peor rendimiento tiene. Por lo tanto, para poder maximizar la producción de sus cosechas, el agricultor debería utilizar el Fertilizante 3. \n",
    "De todas formas, el análisis visual refuerza la necesidad de realizar pruebas adicionales para confirmar la mejor opción para mejorar la producción."
   ]
  }
 ],
 "metadata": {
  "kernelspec": {
   "display_name": "Python 3",
   "language": "python",
   "name": "python3"
  },
  "language_info": {
   "codemirror_mode": {
    "name": "ipython",
    "version": 3
   },
   "file_extension": ".py",
   "mimetype": "text/x-python",
   "name": "python",
   "nbconvert_exporter": "python",
   "pygments_lexer": "ipython3",
   "version": "3.11.4"
  }
 },
 "nbformat": 4,
 "nbformat_minor": 5
}
